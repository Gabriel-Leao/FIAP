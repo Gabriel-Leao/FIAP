{
 "cells": [
  {
   "cell_type": "code",
   "execution_count": null,
   "metadata": {},
   "outputs": [],
   "source": [
    "a = True\n",
    "b = False\n",
    "c = True"
   ]
  },
  {
   "cell_type": "code",
   "execution_count": 3,
   "metadata": {},
   "outputs": [
    {
     "data": {
      "text/plain": [
       "True"
      ]
     },
     "execution_count": 3,
     "metadata": {},
     "output_type": "execute_result"
    }
   ],
   "source": [
    "a and a"
   ]
  },
  {
   "cell_type": "code",
   "execution_count": 4,
   "metadata": {},
   "outputs": [
    {
     "data": {
      "text/plain": [
       "True"
      ]
     },
     "execution_count": 4,
     "metadata": {},
     "output_type": "execute_result"
    }
   ],
   "source": [
    "a or a"
   ]
  },
  {
   "cell_type": "code",
   "execution_count": 5,
   "metadata": {},
   "outputs": [
    {
     "data": {
      "text/plain": [
       "False"
      ]
     },
     "execution_count": 5,
     "metadata": {},
     "output_type": "execute_result"
    }
   ],
   "source": [
    "a and b"
   ]
  },
  {
   "cell_type": "code",
   "execution_count": 6,
   "metadata": {},
   "outputs": [
    {
     "data": {
      "text/plain": [
       "False"
      ]
     },
     "execution_count": 6,
     "metadata": {},
     "output_type": "execute_result"
    }
   ],
   "source": [
    "b and c"
   ]
  },
  {
   "cell_type": "code",
   "execution_count": 7,
   "metadata": {},
   "outputs": [
    {
     "data": {
      "text/plain": [
       "True"
      ]
     },
     "execution_count": 7,
     "metadata": {},
     "output_type": "execute_result"
    }
   ],
   "source": [
    "(a and b) or c"
   ]
  },
  {
   "cell_type": "code",
   "execution_count": 8,
   "metadata": {},
   "outputs": [
    {
     "data": {
      "text/plain": [
       "True"
      ]
     },
     "execution_count": 8,
     "metadata": {},
     "output_type": "execute_result"
    }
   ],
   "source": [
    "salario = 1000\n",
    "idade = 20\n",
    "\n",
    "1200 > salario"
   ]
  },
  {
   "cell_type": "code",
   "execution_count": 9,
   "metadata": {},
   "outputs": [
    {
     "data": {
      "text/plain": [
       "False"
      ]
     },
     "execution_count": 9,
     "metadata": {},
     "output_type": "execute_result"
    }
   ],
   "source": [
    "10 > idade"
   ]
  },
  {
   "cell_type": "code",
   "execution_count": 10,
   "metadata": {},
   "outputs": [
    {
     "data": {
      "text/plain": [
       "False"
      ]
     },
     "execution_count": 10,
     "metadata": {},
     "output_type": "execute_result"
    }
   ],
   "source": [
    "1200 > salario and 10 > idade"
   ]
  },
  {
   "cell_type": "code",
   "execution_count": 1,
   "metadata": {},
   "outputs": [
    {
     "name": "stdout",
     "output_type": "stream",
     "text": [
      "O valor somado dos seus salários é de R$2600.00 e você paga R$1000.00 de convênio, então você não terá que pagar imposto!\n"
     ]
    }
   ],
   "source": [
    "# Pagar imposto\n",
    "\n",
    "def obter_numero(msg):\n",
    "    while True:\n",
    "        try:\n",
    "            resultado = float(input(msg))\n",
    "            return resultado\n",
    "        except ValueError:\n",
    "            print('Valor inválido!')\n",
    "        except Exception as error:\n",
    "            print(error)\n",
    "\n",
    "def calcular_imposto(salario_1, salario_2, convenio):\n",
    "    sum_salario = salario_1 + salario_2\n",
    "\n",
    "    if salario_1 >= 1200 and salario_2 >= 1200 and convenio >= 1000:\n",
    "        mensagem = \"você não terá que pagar imposto!\"\n",
    "    elif salario_1 > 1200 and salario_2 > 1200 or convenio != 0:\n",
    "        mensagem = \"você terá que pagar imposto!\"\n",
    "    else:\n",
    "        mensagem = \"você não terá que pagar imposto!\"\n",
    "\n",
    "    return sum_salario, mensagem\n",
    "\n",
    "salario_1 = obter_numero(\"Digite o valor do seu primeiro salário: \")\n",
    "salario_2 = obter_numero(\"Digite o valor do seu segundo salário: \")\n",
    "convenio = obter_numero(\"Digite o valor do convênio: \")\n",
    "sum_salario, mensagem = calcular_imposto(salario_1, salario_2, convenio)\n",
    "\n",
    "print(f\"O valor somado dos seus salários é de R${sum_salario:.2f} e você paga R${convenio:.2f} de convênio, então {mensagem}\")"
   ]
  }
 ],
 "metadata": {
  "kernelspec": {
   "display_name": "Python 3",
   "language": "python",
   "name": "python3"
  },
  "language_info": {
   "codemirror_mode": {
    "name": "ipython",
    "version": 3
   },
   "file_extension": ".py",
   "mimetype": "text/x-python",
   "name": "python",
   "nbconvert_exporter": "python",
   "pygments_lexer": "ipython3",
   "version": "3.11.5"
  },
  "orig_nbformat": 4
 },
 "nbformat": 4,
 "nbformat_minor": 2
}
