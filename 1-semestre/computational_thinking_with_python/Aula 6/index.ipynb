{
 "cells": [
  {
   "cell_type": "code",
   "execution_count": null,
   "metadata": {},
   "outputs": [],
   "source": [
    "def even(number):\n",
    "    return number % 2 == 0\n",
    "\n",
    "def even_or_odd(number):\n",
    "    if even(number):\n",
    "        return \"par\"\n",
    "    else:\n",
    "        return \"Impar\"\n",
    "    \n",
    "try:\n",
    "    number = int(input(\"Digite um número inteiro: \"))\n",
    "    print(f\"O número {number} é {even_or_odd(number)}\")\n",
    "except ValueError:\n",
    "    print(\"Valor inválido! Por favor digite um número inteiro!\")\n"
   ]
  },
  {
   "cell_type": "code",
   "execution_count": null,
   "metadata": {},
   "outputs": [],
   "source": [
    "numbersList = [10, 20, 25, 30]\n",
    "\n",
    "def sum(list):\n",
    "    total = 0\n",
    "    for number in list:\n",
    "        total +=number\n",
    "    return total\n",
    "\n",
    "def average(list):\n",
    "    return sum(list) / len(list)\n",
    "\n",
    "print(f\"A soma dos números na lista é {sum(numbersList)}\")\n",
    "print(f\"A média dos números na lista é {average(numbersList):.1f}\")"
   ]
  },
  {
   "cell_type": "code",
   "execution_count": 15,
   "metadata": {},
   "outputs": [
    {
     "name": "stdout",
     "output_type": "stream",
     "text": [
      "Médias móveis com janela 3: [15.0, 20.0, 25.0, 30.0, 35.0, 40.0, 45.0, 50.0]\n"
     ]
    }
   ],
   "source": [
    "def media_movel(lista, janela):\n",
    "    medias = []\n",
    "    for item in range(len(lista) - janela + 1):\n",
    "        sublista = lista[item:item + janela]\n",
    "        media = sum(sublista) / janela\n",
    "        medias.append(media)\n",
    "    return medias\n",
    "\n",
    "valores = [10, 15, 20, 25, 30, 35, 40, 45, 50, 55]\n",
    "janela = 3\n",
    "medias = media_movel(valores, janela)\n",
    "print(f\"Médias móveis com janela {janela}: {medias}\")\n"
   ]
  }
 ],
 "metadata": {
  "kernelspec": {
   "display_name": "Python 3",
   "language": "python",
   "name": "python3"
  },
  "language_info": {
   "codemirror_mode": {
    "name": "ipython",
    "version": 3
   },
   "file_extension": ".py",
   "mimetype": "text/x-python",
   "name": "python",
   "nbconvert_exporter": "python",
   "pygments_lexer": "ipython3",
   "version": "3.11.4"
  },
  "orig_nbformat": 4
 },
 "nbformat": 4,
 "nbformat_minor": 2
}
