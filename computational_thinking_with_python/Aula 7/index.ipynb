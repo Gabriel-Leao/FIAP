{
 "cells": [
  {
   "cell_type": "code",
   "execution_count": null,
   "metadata": {},
   "outputs": [],
   "source": [
    "pip install pandas"
   ]
  },
  {
   "cell_type": "code",
   "execution_count": null,
   "metadata": {},
   "outputs": [],
   "source": [
    "import pandas as pd\n",
    "\n",
    "data = {\n",
    "    'coluna_1': [10, 20, 30, 40, 50],\n",
    "    'coluna_2': [5, 10, 15, 20, 25],\n",
    "    'coluna_3': ['a', 'b', 'c', 'd', 'e'],\n",
    "    'coluna_4': ['x', 'y', 'z', 'w', 'v']\n",
    "}\n",
    "\n",
    "dataframe = pd.DataFrame(data)\n",
    "dataframe"
   ]
  },
  {
   "cell_type": "code",
   "execution_count": null,
   "metadata": {},
   "outputs": [],
   "source": [
    "new_column = []\n",
    "\n",
    "def operacao(dataframe):\n",
    "    for i in range(len(dataframe)):\n",
    "        if dataframe['coluna_3'][i] in ['a', 'c']:\n",
    "            new_column.append(dataframe['coluna_1'][i] + dataframe['coluna_2'][i])\n",
    "        elif dataframe['coluna_3'][i] in ['b', 'd']:\n",
    "            new_column.append(dataframe['coluna_1'][i] - dataframe['coluna_2'][i])\n",
    "        elif dataframe['coluna_3'][i] == 'e':\n",
    "            new_column.append(dataframe['coluna_1'][i] * dataframe['coluna_2'][i])\n",
    "        else:\n",
    "            new_column.append(None)\n",
    "\n",
    "    dataframe['coluna_5'] = new_column\n",
    "    return dataframe\n",
    "\n",
    "operacao(dataframe)"
   ]
  },
  {
   "attachments": {},
   "cell_type": "markdown",
   "metadata": {},
   "source": [
    "#UTILIZANDO O DATASET ACIMA, CRIE UMA FUNÇÃO PARA CALCULAR A SOMA, SUBTRAÇÃO, DIVISÃO E MULTIPLICAÇÃO EM\n",
    "#FUNÇÕES DAS COLUNAS 3 E 4.\n",
    " \n",
    "#SE 'COLUNA 3 = A' e 'COLUNA 4 = X', SOME AS LINHAS DA COLUNA 1 E 2.\n",
    "#SE 'COLUNA 3 = C' e 'COLUNA 4 = Z', FAÇA A MULTIPLICAÇÃO DAS LINHAS DA COLUNA 1 E 2.\n",
    "#PARA AS OUTRAS LINHAS, FAÇA A SUBTRAÇÃO.\n",
    "#RETORNE UMA NOVA COLUNA CHAMADA 'NOVA_OPERACAO'.\n",
    "#VERIFIQUE SE A FUNÇÃO ESTÁ FUNCIONANDO CORRETAMENTE."
   ]
  },
  {
   "cell_type": "code",
   "execution_count": null,
   "metadata": {},
   "outputs": [],
   "source": [
    "new_column1 = []\n",
    "\n",
    "def operacao1(dataframe):\n",
    "    for i in range(len(dataframe)):\n",
    "        if dataframe['coluna_3'][i] == 'a' and dataframe['coluna_4'][i] == 'x':\n",
    "            new_column1.append(dataframe['coluna_1'][i] + dataframe['coluna_2'][i])\n",
    "        elif dataframe['coluna_3'][i] == 'c' and dataframe['coluna_4'][i] == 'z':\n",
    "            new_column1.append(dataframe['coluna_1'][i] * dataframe['coluna_2'][i])\n",
    "        else:\n",
    "            new_column1.append(dataframe['coluna_1'][i] - dataframe['coluna_2'][i])\n",
    "\n",
    "    dataframe['nova_operacao'] = new_column1\n",
    "    return dataframe\n",
    "\n",
    "operacao1(dataframe)"
   ]
  }
 ],
 "metadata": {
  "kernelspec": {
   "display_name": "Python 3",
   "language": "python",
   "name": "python3"
  },
  "language_info": {
   "codemirror_mode": {
    "name": "ipython",
    "version": 3
   },
   "file_extension": ".py",
   "mimetype": "text/x-python",
   "name": "python",
   "nbconvert_exporter": "python",
   "pygments_lexer": "ipython3",
   "version": "3.11.4"
  },
  "orig_nbformat": 4
 },
 "nbformat": 4,
 "nbformat_minor": 2
}
