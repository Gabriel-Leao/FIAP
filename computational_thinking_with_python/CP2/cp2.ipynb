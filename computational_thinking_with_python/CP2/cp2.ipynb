{
 "cells": [
  {
   "cell_type": "markdown",
   "metadata": {},
   "source": [
    "Utilizando for, desenvolva um algoritmo em Python para trazer os produtos, cujo estoque x preços, sejam menores do que 120."
   ]
  },
  {
   "cell_type": "code",
   "execution_count": null,
   "metadata": {},
   "outputs": [],
   "source": [
    "# Declarando as listas\n",
    "itens = [ 'Milho','Feijão', 'Leite', 'Açúcar', 'Arroz', 'azeitona', 'Café em Grãos' ]\n",
    "estoque = [ 20, 50, 15, 30, 5, 30, 40 ]\n",
    "precos = [ 5, 5.0, 2.0, 6.0, 10, 3.0, 3.0 ]\n",
    "\n",
    "# retorna uma lista com os itens para a variável produtos, caso o estoque multiplicado preco seja menor que 120, se for maior ou igual, não retorna o item.\n",
    "produtos = [ item for item, estoque, preco in zip(itens, estoque, precos) if estoque * preco < 120 ]\n",
    "\n",
    "print(produtos)"
   ]
  },
  {
   "cell_type": "markdown",
   "metadata": {},
   "source": [
    "Crie um algoritmo para verificar se a senha, nome e cpf estão corretos, caso esteja, print acesso permitido, caso contrário, acesso negado. Utilize laços de repetição Posteriormente utilize for para percorrer as listas e verificar se atende a condição da senha, nome e cpf."
   ]
  },
  {
   "cell_type": "code",
   "execution_count": null,
   "metadata": {},
   "outputs": [],
   "source": [
    "# Declarando as listas\n",
    "nomes_corretos = [\"João Carvalho\", \"Maria Oliveira\", \"Pedro Santos\", \"Ana Souza\", \"Carlos Pereira\"]\n",
    "senhas_corretas = [\"senha123\", \"abc456\", \"mundo357\", \"admin123\", \"brasil128\"]\n",
    "cpfs_corretos = [\"289.456.123-00\", \"123.654.456-00\", \"456.789.123-00\", \"321.654.987-00\", \"789.123.456-00\"]\n",
    "\n",
    "# une as informações de nome, senha e cpf em uma lista e adiciona essa lista a variável pessoas, isso ocorre para cada item, então a variável pessoas terá um comprimento de 5 itens \n",
    "pessoas = [ (nome, senha, cpf) for nome, senha, cpf in zip(nomes_corretos, senhas_corretas, cpfs_corretos) ]\n",
    "\n",
    "# pega as informações do usuário e armazena em variáveis\n",
    "user_nome = str(input(\"Digite o seu nome: \"))\n",
    "user_senha = str(input(\"Digite a sua senha: \"))\n",
    "user_cpf = str(input(\"Digite o seu cpf: \"))\n",
    "\n",
    "# percorre a lista de pessoas, em cada item verifica se o nome, senha e cpf são iguais aos dados que o usuário digitou, se for, exibe a mensagem de acesso permitido e para de percorrer a lista. Se percorrer toda a lista e não encontrar nenhum item que se enquadre nessa condição, exibe a mensagem de acesso negado\n",
    "for nome, senha, cpf in pessoas:\n",
    "  if user_nome == nome and user_senha == senha and user_cpf == cpf:\n",
    "    print(f\"Olá, {nome}! Acesso permitido.\")\n",
    "    break\n",
    "else:\n",
    "  print(\"Acesso negado.\")"
   ]
  },
  {
   "cell_type": "markdown",
   "metadata": {},
   "source": [
    "Você é um analista de dados de uma empresa e recebeu quatro listas contendo informações sobre as vendas dos últimos meses.\\"
   ]
  },
  {
   "cell_type": "code",
   "execution_count": 48,
   "metadata": {},
   "outputs": [],
   "source": [
    "# Declarando as listas\n",
    "produtos = ['A', 'B', 'C', 'D', 'E', 'F', 'G']\n",
    "vendas_janeiro = [150, 200, 100, 300, 250, 230, 250]\n",
    "vendas_fevereiro = [120, 180, 150, 280, 200, 210, 240]\n",
    "vendas_marco = [200, 220, 170, 320, 250, 230, 315]\n",
    "vendas_abril = [180, 215, 185, 290, 250, 410, 390]"
   ]
  },
  {
   "cell_type": "markdown",
   "metadata": {},
   "source": [
    "a) Calcule o total de vendas de cada produto ao longo dos quatro meses.\\"
   ]
  },
  {
   "cell_type": "code",
   "execution_count": null,
   "metadata": {},
   "outputs": [],
   "source": [
    "# Une as listas e retorna o produto e a soma das vendas dos meses de janeiro, fevereiro, março e abril\n",
    "vendas_totais = [ (produto, vendas_janeiro + vendas_fevereiro + vendas_marco + vendas_abril) for produto, vendas_janeiro, vendas_fevereiro, vendas_marco, vendas_abril in zip(produtos, vendas_janeiro, vendas_fevereiro, vendas_marco, vendas_abril) ]\n",
    "\n",
    "# percorre a lista e exibe o nome do produto e o valor total das vendas\n",
    "for produto, vendas in vendas_totais:\n",
    "  print(f\"O produto: {produto}, vendeu um total de {vendas}\")"
   ]
  },
  {
   "cell_type": "markdown",
   "metadata": {},
   "source": [
    "b) Determine o produto mais vendido em cada mês."
   ]
  },
  {
   "cell_type": "code",
   "execution_count": null,
   "metadata": {},
   "outputs": [],
   "source": [
    "# Juntando as listas das vendas de cada mês em uma única lista chamada meses\n",
    "meses = [vendas_janeiro, vendas_fevereiro, vendas_marco, vendas_abril]\n",
    "\n",
    "# variável que vai armazenar um objeto com as informações do produto e qa quantidade de venda do produto naquele mês\n",
    "mais_vendidos = []\n",
    "\n",
    "# criando um for com vendas_mensais sendo uma referência para cada item da lista meses\n",
    "for vendas_mensais in meses:\n",
    "  # pegando o valor máximo da lista especificada por vendas_mensais e armazenando em max_vendas\n",
    "  max_vendas = max(vendas_mensais)\n",
    "  # retorna o produto caso o número de vendas dele seja igual ao máximo de vendas daquele mês\n",
    "  for produto, vendas in zip(produtos, vendas_mensais): \n",
    "    if vendas == max_vendas:\n",
    "      # adiciona um objeto com o produto mais vendido daquele mes e a quantidade vendida, essas informações são identificadas pelas propriedades \"produto\" e \"vendas\" a variável \"mais_vendidos\"\n",
    "      mais_vendidos.append({\"produto\": produto, \"vendas\": vendas})\n",
    "      break\n",
    "\n",
    "# variável com o nome dos meses para fazer um print mais bonitinho, com a informação do mes\n",
    "nome_meses = [\"Janeiro\", \"Fevereiro\", \"Março\", \"Abril\"]\n",
    "\n",
    "# Usando o enumerate para pegar o index, vai ser útil pois todas as listas tem o mesmo comprimento e usando \"mes\", para referenciar o nome de cada mês\n",
    "for index, mes in enumerate(nome_meses):\n",
    "  # usando o index para pegar a informação do mais vendido na posição do index e selecionando as propriedades com o colchete e passando o nome da propriedade entre aspas simples\n",
    "  print(f\"O produto mais vendido no mês de {mes} foi o {mais_vendidos[index]['produto']} com {mais_vendidos[index]['vendas']} unidades vendidas\")"
   ]
  },
  {
   "cell_type": "markdown",
   "metadata": {},
   "source": [
    "c) Identifique o produto que teve o maior crescimento percentual nas vendas de janeiro para fevereiro."
   ]
  },
  {
   "cell_type": "code",
   "execution_count": null,
   "metadata": {},
   "outputs": [],
   "source": [
    "# Variável que armazena o produto que teve um aumento em suas venda\n",
    "produto_aumentou = {}\n",
    "# percorre a lista procurando um produto que teve um aumento em suas venda em relação ao mês de janeiro. estou procurando apenas um por causa do  enunciado e uma analise da lista, só tem um produto que teve aumento em fevereiro\n",
    "for produto, vendas_janeiro, vendas_fevereiro in zip(produtos, vendas_janeiro, vendas_fevereiro):\n",
    "  # verifica se as vendas do produto em fevereiro é maior do que em janeiro\n",
    "  if vendas_fevereiro > vendas_janeiro:\n",
    "    # se for cria um objeto com as informações do produto, a última prop faz p calculo da porcentagem e converte para inteiro\n",
    "    produto_aumentou = { \"produto\": produto, \"vendas_janeiro\": vendas_janeiro, \"vendas_fevereiro\": vendas_fevereiro, \"porcentagem_aumento\": int((vendas_fevereiro - vendas_janeiro) / vendas_janeiro * 100)}\n",
    "    break\n",
    "# exibe o produto que teve um aumento\n",
    "print(f\"O produto com o maior aumento percentual foi o produto {produto_aumentou['produto']} que teve um aumento de {produto_aumentou['porcentagem_aumento']}%\")"
   ]
  },
  {
   "cell_type": "markdown",
   "metadata": {},
   "source": [
    "d) Liste os produtos que tiveram uma queda nas vendas de março para abril."
   ]
  },
  {
   "cell_type": "code",
   "execution_count": null,
   "metadata": {},
   "outputs": [],
   "source": [
    "# variável que vai armazenar os produtos que venderam menos\n",
    "produtos_diminuiram = []\n",
    "# unindo as lista com o zip e percorrendo elas com o for\n",
    "for produto, vendas_marco, vendas_abril in zip(produtos, vendas_marco, vendas_abril):\n",
    "  #  verificando se as vendas de março são maiores que de abril, se sim, adiciona um objeto com as informações do produto a variável \"produtos_diminuiram\"\n",
    "  if vendas_marco > vendas_abril:\n",
    "    produtos_diminuiram.append({ \"produto\": produto, \"vendas_marco\": vendas_marco, \"vendas_abril\": vendas_abril, \"queda\": vendas_marco - vendas_abril})\n",
    "# exibe os produtos que tiveram queda\n",
    "print(\"Os produtos que tiveram queda são: \\n\")\n",
    "for produto in produtos_diminuiram:\n",
    "  print(f\"O produto {produto['produto']}, vendeu em março {produto['vendas_marco']} unidades, em abril vendeu {produto['vendas_abril']} unidades, é uma queda de {produto['queda']} unidades em relação ao mês de março.\")"
   ]
  }
 ],
 "metadata": {
  "kernelspec": {
   "display_name": "Python 3",
   "language": "python",
   "name": "python3"
  },
  "language_info": {
   "codemirror_mode": {
    "name": "ipython",
    "version": 3
   },
   "file_extension": ".py",
   "mimetype": "text/x-python",
   "name": "python",
   "nbconvert_exporter": "python",
   "pygments_lexer": "ipython3",
   "version": "3.11.5"
  }
 },
 "nbformat": 4,
 "nbformat_minor": 2
}
